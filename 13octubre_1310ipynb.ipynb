{
  "nbformat": 4,
  "nbformat_minor": 0,
  "metadata": {
    "colab": {
      "name": "13octubre_1310ipynb",
      "provenance": [],
      "authorship_tag": "ABX9TyMZT3ccUrVE9kF7aoBjwDJo",
      "include_colab_link": true
    },
    "kernelspec": {
      "name": "python3",
      "display_name": "Python 3"
    }
  },
  "cells": [
    {
      "cell_type": "markdown",
      "metadata": {
        "id": "view-in-github",
        "colab_type": "text"
      },
      "source": [
        "<a href=\"https://colab.research.google.com/github/lizbeth-cortes/edd_1310_2021/blob/master/13octubre_1310ipynb.ipynb\" target=\"_parent\"><img src=\"https://colab.research.google.com/assets/colab-badge.svg\" alt=\"Open In Colab\"/></a>"
      ]
    },
    {
      "cell_type": "code",
      "metadata": {
        "id": "sZFyWr2ZvGRj",
        "outputId": "15def156-efea-44fe-847e-fb68106f6786",
        "colab": {
          "base_uri": "https://localhost:8080/",
          "height": 104
        }
      },
      "source": [
        "alumno = { \n",
        "          \"num_cta\" : 303030303 ,\n",
        "          \"carrera\" : \"ICO\",\n",
        "          \"promedio\" : 9.8,\n",
        "          \"materias\" :[\"EDD\",\"CyP\",\"Calidad\",\"Emprendimiento\"],\n",
        "          \"direccion\" : { \n",
        "                            \"calle\":\"rancho seco\",\n",
        "                            \"numero\" : 23 ,\n",
        "                            \"delegacion\" : \"Neza\",\n",
        "                            \"estado\" : {\n",
        "                                        \"id\" : 15 ,\n",
        "                                        \"nombre\" : \"Estado de México\" ,\n",
        "                                        \"nombre_corto\" : \"EdoMex\"\n",
        "                                        } ,\n",
        "                            \"CP\":57170\n",
        "\n",
        "                        } \n",
        "          }\n",
        "\n",
        "print(alumno)\n",
        "alumno ['carrera'] = \"Ingeniería en computación\"\n",
        "print(alumno)\n",
        "alumno['nombre_completo'] = {'primer': \"Juan\",\n",
        "                              'segundo' : \"Pedro\",\n",
        "                              \"materno\" : \"Pérez\",\n",
        "                              \"paterno\" : \"Gómez\"\n",
        "                            }\n",
        "alumno['semestre'] = 3\n",
        "print(alumno)\n",
        "print (f\"{alumno['nombre_completo']['primer']} {alumno['nombre_completo']['segundo']}\")\n",
        "\n"
      ],
      "execution_count": 14,
      "outputs": [
        {
          "output_type": "stream",
          "text": [
            "{'num_cta': 303030303, 'carrera': 'ICO', 'promedio': 9.8, 'materias': ['EDD', 'CyP', 'Calidad', 'Emprendimiento'], 'direccion': {'calle': 'rancho seco', 'numero': 23, 'delegacion': 'Neza', 'estado': {'id': 15, 'nombre': 'Estado de México', 'nombre_corto': 'EdoMex'}, 'CP': 57170}}\n",
            "{'num_cta': 303030303, 'carrera': 'Ingeniería en computación', 'promedio': 9.8, 'materias': ['EDD', 'CyP', 'Calidad', 'Emprendimiento'], 'direccion': {'calle': 'rancho seco', 'numero': 23, 'delegacion': 'Neza', 'estado': {'id': 15, 'nombre': 'Estado de México', 'nombre_corto': 'EdoMex'}, 'CP': 57170}}\n",
            "{'num_cta': 303030303, 'carrera': 'Ingeniería en computación', 'promedio': 9.8, 'materias': ['EDD', 'CyP', 'Calidad', 'Emprendimiento'], 'direccion': {'calle': 'rancho seco', 'numero': 23, 'delegacion': 'Neza', 'estado': {'id': 15, 'nombre': 'Estado de México', 'nombre_corto': 'EdoMex'}, 'CP': 57170}, 'nombre_completo': {'primer': 'Juan', 'segundo': 'Pedro', 'materno': 'Pérez', 'paterno': 'Gómez'}, 'semestre': 3}\n",
            "Juan Pedro\n"
          ],
          "name": "stdout"
        }
      ]
    },
    {
      "cell_type": "code",
      "metadata": {
        "id": "537o45RqyWnD",
        "outputId": "156bed43-eaeb-4e01-bc80-4571f5589450",
        "colab": {
          "base_uri": "https://localhost:8080/",
          "height": 457
        }
      },
      "source": [
        "#keys(), values(), e items()\n",
        "llaves = alumno.keys()\n",
        "print(llaves)\n",
        "for llave in llaves:\n",
        "  print(llave.upper())\n",
        "\n",
        "print(\"-----------\")\n",
        "valores = alumno.values()\n",
        "for val in valores:\n",
        "  print(val)\n",
        "\n",
        "print(\"-------------\")\n",
        "#Lista de tuplas/tuplas en par (sólo es para una consulta)\n",
        "pares = alumno.items()\n",
        "print(pares)\n",
        "for elem in pares:\n",
        "  print(f\"el campo {elem[0]} tiene el valor {elem[1]}\")"
      ],
      "execution_count": 15,
      "outputs": [
        {
          "output_type": "stream",
          "text": [
            "dict_keys(['num_cta', 'carrera', 'promedio', 'materias', 'direccion', 'nombre_completo', 'semestre'])\n",
            "NUM_CTA\n",
            "CARRERA\n",
            "PROMEDIO\n",
            "MATERIAS\n",
            "DIRECCION\n",
            "NOMBRE_COMPLETO\n",
            "SEMESTRE\n",
            "-----------\n",
            "303030303\n",
            "Ingeniería en computación\n",
            "9.8\n",
            "['EDD', 'CyP', 'Calidad', 'Emprendimiento']\n",
            "{'calle': 'rancho seco', 'numero': 23, 'delegacion': 'Neza', 'estado': {'id': 15, 'nombre': 'Estado de México', 'nombre_corto': 'EdoMex'}, 'CP': 57170}\n",
            "{'primer': 'Juan', 'segundo': 'Pedro', 'materno': 'Pérez', 'paterno': 'Gómez'}\n",
            "3\n",
            "-------------\n",
            "dict_items([('num_cta', 303030303), ('carrera', 'Ingeniería en computación'), ('promedio', 9.8), ('materias', ['EDD', 'CyP', 'Calidad', 'Emprendimiento']), ('direccion', {'calle': 'rancho seco', 'numero': 23, 'delegacion': 'Neza', 'estado': {'id': 15, 'nombre': 'Estado de México', 'nombre_corto': 'EdoMex'}, 'CP': 57170}), ('nombre_completo', {'primer': 'Juan', 'segundo': 'Pedro', 'materno': 'Pérez', 'paterno': 'Gómez'}), ('semestre', 3)])\n",
            "el campo num_cta tiene el valor 303030303\n",
            "el campo carrera tiene el valor Ingeniería en computación\n",
            "el campo promedio tiene el valor 9.8\n",
            "el campo materias tiene el valor ['EDD', 'CyP', 'Calidad', 'Emprendimiento']\n",
            "el campo direccion tiene el valor {'calle': 'rancho seco', 'numero': 23, 'delegacion': 'Neza', 'estado': {'id': 15, 'nombre': 'Estado de México', 'nombre_corto': 'EdoMex'}, 'CP': 57170}\n",
            "el campo nombre_completo tiene el valor {'primer': 'Juan', 'segundo': 'Pedro', 'materno': 'Pérez', 'paterno': 'Gómez'}\n",
            "el campo semestre tiene el valor 3\n"
          ],
          "name": "stdout"
        }
      ]
    },
    {
      "cell_type": "code",
      "metadata": {
        "id": "p1c773rF1Oaf",
        "outputId": "97009e69-e487-4872-c3d6-d4c186219bbc",
        "colab": {
          "base_uri": "https://localhost:8080/",
          "height": 34
        }
      },
      "source": [
        "#Concatenar diccionarios\n",
        "#Se utiliza el método update(), para anexar los pares del diccionario\n",
        "computadora = {\"procesadores\":\"Intel i7\",\"ram\":\"Kingston 12GB\"}\n",
        "otros = {\"monitor\":\"LG 49\\\"\",\"HD\":\"Toshiba 1TB\"}\n",
        "computadora.update(otros)\n",
        "print(computadora)"
      ],
      "execution_count": 16,
      "outputs": [
        {
          "output_type": "stream",
          "text": [
            "{'procesadores': 'Intel i7', 'ram': 'Kingston 12GB', 'monitor': 'LG 49\"', 'HD': 'Toshiba 1TB'}\n"
          ],
          "name": "stdout"
        }
      ]
    },
    {
      "cell_type": "markdown",
      "metadata": {
        "id": "x0JMXyi32qf4"
      },
      "source": [
        "# Funciones(modularidad)\n",
        "- Unidades de código reutilizable\n",
        "- Es un mecanismo de organización de código\n",
        "- Una función toma 0 a n parámetros de entrada\n",
        "- Tiene una sola salida (return) de cualquier tipo de dato\n",
        "- Sólo puede hacer dos cosas:\n",
        "  - definirla\n",
        "  - llamarla\n",
        "- Se definen con la palabra reservada 'def'"
      ]
    },
    {
      "cell_type": "code",
      "metadata": {
        "id": "E_iY4S4l4RW-",
        "outputId": "a4983074-7c59-4772-bf7b-7d69a6c6816e",
        "colab": {
          "base_uri": "https://localhost:8080/",
          "height": 185
        }
      },
      "source": [
        "def sumar(x,y):\n",
        "  resultado = x+y\n",
        "  return resultado\n",
        "\n",
        "\n",
        "def saludar(nombre):\n",
        "  print(f\"Hola{nombre}, como estás\")\n",
        "\n",
        "  #procesar none\n",
        "\n",
        "def multiplicar(valor, veces):\n",
        "  if valor!=None:\n",
        "    c = valor * veces\n",
        "  else:\n",
        "    c=\"Operación no válida\"\n",
        "  return c\n",
        "\n",
        "def operaciones(a,b,c):\n",
        "  res = a+(b/c)\n",
        "  return res\n",
        "\n",
        "print(sumar(10,5))\n",
        "print(sumar(2,6))\n",
        "c= sumar(3,7)\n",
        "print(\"Jesus\")\n",
        "print(saludar(\"jose\"))\n",
        "print(multiplicar(5,6))\n",
        "print(multiplicar(None,6))\n",
        "\n",
        "print(operaciones(2,9,3))\n",
        "print(operaciones(2,3,9))\n",
        "print(operaciones(a=2,c=3,b=9))"
      ],
      "execution_count": 27,
      "outputs": [
        {
          "output_type": "stream",
          "text": [
            "15\n",
            "8\n",
            "Jesus\n",
            "Holajose, como estás\n",
            "None\n",
            "30\n",
            "Operación no válida\n",
            "5.0\n",
            "2.3333333333333335\n",
            "5.0\n"
          ],
          "name": "stdout"
        }
      ]
    },
    {
      "cell_type": "code",
      "metadata": {
        "id": "dx15KDTn-lAt",
        "outputId": "d53b3c57-60d8-41ad-8ffd-09a6dbcad28a",
        "colab": {
          "base_uri": "https://localhost:8080/",
          "height": 286
        }
      },
      "source": [
        "\n",
        "#valores poe defecto\n",
        "def comanda (primer , fuerte, postre=\"Galleta de animalito\"):\n",
        "  print(f\"De entrada pidió: { primer}\")\n",
        "  print(f\"De plato fuerte pidió: { fuerte}\")\n",
        "  print(f\"De postre pidió: {postre}\")\n",
        "\n",
        "#Argumentos posicionales con tuplas *\n",
        "def comanda_2(*opciones):\n",
        "  print(opciones)\n",
        "  print(f\"De entrada pidió: { opciones[0]}\")\n",
        "  print(f\"De plato fuerte pidió: { opciones[1]}\")\n",
        "  print(f\"De postre pidió: {opciones[2]}\")\n",
        "  print(\"\\nIndicaciones extra:\")\n",
        "  for ind in opciones[3::]:\n",
        "    print(f\"\\t{ind}\")\n",
        "comanda(\"sopa aguada\",\"Tortas de papa\", \"Gelatina de limón\")\n",
        "comanda(\"sopa aguada\", \"Tortas de papa\")\n",
        "print(\"-----------------------\")\n",
        "comanda_2(\"sopa aguada\",\"Tortas de papa\", \"Gelatina de limón\", \n",
        "          \"las tortas bien doradas\", \"Traer dos limones\", \"Agua con hielo\")"
      ],
      "execution_count": 41,
      "outputs": [
        {
          "output_type": "stream",
          "text": [
            "De entrada pidió: sopa aguada\n",
            "De plato fuerte pidió: Tortas de papa\n",
            "De postre pidió: Gelatina de limón\n",
            "De entrada pidió: sopa aguada\n",
            "De plato fuerte pidió: Tortas de papa\n",
            "De postre pidió: Galleta de animalito\n",
            "-----------------------\n",
            "('sopa aguada', 'Tortas de papa', 'Gelatina de limón', 'las tortas bien doradas', 'Traer dos limones', 'Agua con hielo')\n",
            "De entrada pidió: sopa aguada\n",
            "De plato fuerte pidió: Tortas de papa\n",
            "De postre pidió: Gelatina de limón\n",
            "\n",
            "Indicaciones extra:\n",
            "\tlas tortas bien doradas\n",
            "\tTraer dos limones\n",
            "\tAgua con hielo\n"
          ],
          "name": "stdout"
        }
      ]
    },
    {
      "cell_type": "code",
      "metadata": {
        "id": "fnyVwZIbB8Ih",
        "outputId": "5927df93-c08b-4386-b2b6-b1dbc819a1d4",
        "colab": {
          "base_uri": "https://localhost:8080/",
          "height": 155
        }
      },
      "source": [
        "#argumentos posicionales con diccionarios\n",
        "def comanda_3(**opciones):\n",
        "  print(opciones)\n",
        "  for op in opciones.items():\n",
        "    print(f\"{op[0]}->{op[1]}\")\n",
        "\n",
        "\n",
        "comanda_3(primer=\" sopa aguada\",fuerte=\" Tortas de papa\", postre=\" Gelatina de limón\", \n",
        "          extra_1=\" las tortas bien doradas\",extra_2= \" Traer dos limones\", extra_3=\" Agua con hielo\")\n"
      ],
      "execution_count": 45,
      "outputs": [
        {
          "output_type": "stream",
          "text": [
            "{'primer': ' sopa aguada', 'fuerte': ' Tortas de papa', 'postre': ' Gelatina de limón', 'extra_1': ' las tortas bien doradas', 'extra_2': ' Traer dos limones', 'extra_3': ' Agua con hielo'}\n",
            "primer-> sopa aguada\n",
            "fuerte-> Tortas de papa\n",
            "postre-> Gelatina de limón\n",
            "extra_1-> las tortas bien doradas\n",
            "extra_2-> Traer dos limones\n",
            "extra_3-> Agua con hielo\n"
          ],
          "name": "stdout"
        }
      ]
    }
  ]
}