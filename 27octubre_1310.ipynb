{
  "nbformat": 4,
  "nbformat_minor": 0,
  "metadata": {
    "colab": {
      "name": "27octubre_1310.ipynb",
      "provenance": [],
      "authorship_tag": "ABX9TyPNp6pIKWNBteWtmv8YdMvR",
      "include_colab_link": true
    },
    "kernelspec": {
      "name": "python3",
      "display_name": "Python 3"
    }
  },
  "cells": [
    {
      "cell_type": "markdown",
      "metadata": {
        "id": "view-in-github",
        "colab_type": "text"
      },
      "source": [
        "<a href=\"https://colab.research.google.com/github/lizbeth-cortes/edd_1310_2021/blob/master/27octubre_1310.ipynb\" target=\"_parent\"><img src=\"https://colab.research.google.com/assets/colab-badge.svg\" alt=\"Open In Colab\"/></a>"
      ]
    },
    {
      "cell_type": "code",
      "metadata": {
        "id": "lttTAJ6GBvTh",
        "outputId": "280e426c-0236-4fd0-92ac-bd95d70e1e8d",
        "colab": {
          "base_uri": "https://localhost:8080/",
          "height": 67
        }
      },
      "source": [
        "class Computadora:\n",
        "    def __init__( self , m , p): #El __ hace privado al atributo\n",
        "        self.__marca = m\n",
        "        self.__procesador = p\n",
        "\n",
        "    def to_string( self ):\n",
        "        return \"Marca:\"+self.__marca+\" Procesador:\"+self.__procesador\n",
        "\n",
        "    def set_marca(self,m):\n",
        "      self.__marca = m\n",
        "\n",
        "    def get_marca(self):\n",
        "      return self.__marca\n",
        "\n",
        "    def set_procesador(self, p):\n",
        "      self.__procesador = p\n",
        "\n",
        "    def get_procesador(self):\n",
        "      return self.__procesador\n",
        "\n",
        "mi_pc = Computadora(\"Toshiba\",\"Intel i7\")\n",
        "print(mi_pc.to_string())\n",
        "mi_pc.__marca=\"HP \"  #Intentando cambiar el valor\n",
        "mi_pc.set_marca (\"HP co.\")\n",
        "print(mi_pc.to_string())\n",
        "#print(mi_pc.__procesador)\n",
        "print(mi_pc.get_procesador()) "
      ],
      "execution_count": 33,
      "outputs": [
        {
          "output_type": "stream",
          "text": [
            "Marca:Toshiba Procesador:Intel i7\n",
            "Marca:HP co. Procesador:Intel i7\n",
            "Intel i7\n"
          ],
          "name": "stdout"
        }
      ]
    },
    {
      "cell_type": "markdown",
      "metadata": {
        "id": "3NE6FMwOEMVm"
      },
      "source": [
        "#Encapsulamiento en Python\n",
        "##Tradicional (tipo java)\n",
        "  void setAtributo (val)\n",
        "\n",
        "  void getAtributp (val)\n",
        "\n",
        "\n",
        "##Estilo Python 3\n",
        "UTILIZANDO DECORADORES\n",
        "- @property\n",
        "- @atributo.setter\n"
      ]
    },
    {
      "cell_type": "code",
      "metadata": {
        "id": "zOi3OWZlH3p_",
        "outputId": "ce73b882-5bf9-45cc-dc91-28e5cb0986fc",
        "colab": {
          "base_uri": "https://localhost:8080/",
          "height": 135
        }
      },
      "source": [
        "class Computadora:\n",
        "    def __init__(self,m,p):\n",
        "        self.marca = m #NO SE DELCARA, se manada a llamar al decorador @ property\n",
        "        self.procesador = p #idem\n",
        "\n",
        "    @property  #se declara un atributo privado y funciona como un método get\n",
        "    def marca(self):\n",
        "        return self.__marca\n",
        "\n",
        "    @marca.setter\n",
        "    def marca(self,m):\n",
        "        print(\"En el setter de marca\")\n",
        "        self.__marca = m\n",
        "\n",
        "    @property\n",
        "    def procesador(self):\n",
        "        return self.__procesador\n",
        "\n",
        "    @procesador.setter\n",
        "    def procesador(self,p):\n",
        "        print(\"En el método set de procesador\")\n",
        "        self.__procesador = p\n",
        "\n",
        "\n",
        "    def to_string(self):\n",
        "        return \"Marca: \" +   self.marca + \" \\nProcesador: \" + self.procesador\n",
        "\n",
        "mi_pc2 = Computadora (\"Mac Book Pro\", \"Intel i7\")\n",
        "print( mi_pc2.to_string())\n",
        "mi_pc2.marca = \"Dell\"\n",
        "print( mi_pc2.to_string())"
      ],
      "execution_count": 34,
      "outputs": [
        {
          "output_type": "stream",
          "text": [
            "En el setter de marca\n",
            "En el método set de procesador\n",
            "Marca: Mac Book Pro \n",
            "Procesador: Intel i7\n",
            "En el setter de marca\n",
            "Marca: Dell \n",
            "Procesador: Intel i7\n"
          ],
          "name": "stdout"
        }
      ]
    },
    {
      "cell_type": "code",
      "metadata": {
        "id": "SW-Z68hUQkeW",
        "outputId": "2fdf74ff-5fb2-4c07-cf1f-7ad9116e3a52",
        "colab": {
          "base_uri": "https://localhost:8080/",
          "height": 101
        }
      },
      "source": [
        "#Herencia, pasando la clase base a la delcaración\n",
        "class ServidorEmpresarial(Computadora):\n",
        "    def __init__(self):\n",
        "        print(\"Hola servidor\")\n",
        "\n",
        "server = ServidorEmpresarial()\n",
        "server.marca = \"Sun Mycro Systems\"\n",
        "server.procesador = \"Intel i7\"\n",
        "print(server.to_string())"
      ],
      "execution_count": 35,
      "outputs": [
        {
          "output_type": "stream",
          "text": [
            "Hola servidor\n",
            "En el setter de marca\n",
            "En el método set de procesador\n",
            "Marca: Sun Mycro Systems \n",
            "Procesador: Intel i7\n"
          ],
          "name": "stdout"
        }
      ]
    }
  ]
}