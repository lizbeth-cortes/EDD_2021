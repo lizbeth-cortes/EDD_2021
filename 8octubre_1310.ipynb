{
  "nbformat": 4,
  "nbformat_minor": 0,
  "metadata": {
    "colab": {
      "name": "8octubre_1310.ipynb",
      "provenance": [],
      "authorship_tag": "ABX9TyO0KsHMbobdsIXJe+Kc23/P",
      "include_colab_link": true
    },
    "kernelspec": {
      "name": "python3",
      "display_name": "Python 3"
    }
  },
  "cells": [
    {
      "cell_type": "markdown",
      "metadata": {
        "id": "view-in-github",
        "colab_type": "text"
      },
      "source": [
        "<a href=\"https://colab.research.google.com/github/lizbeth-cortes/edd_1310_2021/blob/master/8octubre_1310.ipynb\" target=\"_parent\"><img src=\"https://colab.research.google.com/assets/colab-badge.svg\" alt=\"Open In Colab\"/></a>"
      ]
    },
    {
      "cell_type": "code",
      "metadata": {
        "id": "hO4F8Woy_TxF",
        "outputId": "bfe8d719-7816-4046-e4be-1f74122074d4",
        "colab": {
          "base_uri": "https://localhost:8080/",
          "height": 155
        }
      },
      "source": [
        "monitores =[[\"Samsung\",\"17.3 \\\"\",1024],[\"BenQ\",\"40\\\"\",2048]]\n",
        "procesadores = [[\"Intel\",\"i7\",3.4],[\"AMD\",\"razzer\",3.3],[\"Intel\",\"i3\",3.1]]\n",
        "memorias = [[\"Kingston\", \"8GB\",\"DDR4\"],[\"Kingston\", \"16GB\",\"DDR3\"],[\"ADATA\", \"32GB\",\"DDR4\"]]\n",
        "\n",
        "componentes = [monitores,procesadores,memorias]\n",
        "print (componentes)\n",
        "print(componentes[1])\n",
        "\n",
        "print(componentes[2][1][1])\n",
        "\n",
        "print(int(componentes[0][1][2])*2)\n",
        "resolucion = componentes[0][1][2]\n",
        "resul = resolucion*2\n",
        "print(resul)\n",
        "\n",
        "print(componentes[1][1][1][1:4])\n",
        "\n",
        "print(componentes[2][2][0].lower())"
      ],
      "execution_count": 21,
      "outputs": [
        {
          "output_type": "stream",
          "text": [
            "[[['Samsung', '17.3 \"', 1024], ['BenQ', '40\"', 2048]], [['Intel', 'i7', 3.4], ['AMD', 'razzer', 3.3], ['Intel', 'i3', 3.1]], [['Kingston', '8GB', 'DDR4'], ['Kingston', '16GB', 'DDR3'], ['ADATA', '32GB', 'DDR4']]]\n",
            "[['Intel', 'i7', 3.4], ['AMD', 'razzer', 3.3], ['Intel', 'i3', 3.1]]\n",
            "16GB\n",
            "4096\n",
            "4096\n",
            "azz\n",
            "adata\n"
          ],
          "name": "stdout"
        }
      ]
    },
    {
      "cell_type": "code",
      "metadata": {
        "id": "bVoH2CqbH4KB",
        "outputId": "231a4eac-8ae1-4b34-8d8b-5b934ad0b158",
        "colab": {
          "base_uri": "https://localhost:8080/",
          "height": 168
        }
      },
      "source": [
        "#copiar listas\n",
        "#extender listas\n",
        "\n",
        "frutas = [\"manzana\",\"pera\"]\n",
        "otras_frutas = [\"aguacate\",\"sandía\"]\n",
        "\n",
        "#+ sobre listas // el + concatena\n",
        "#frutas = frutas + otras_frutas\n",
        "#print(frutas)\n",
        "\n",
        "#función extend() // esta función aumenta el tamaño del arreglo\n",
        "frutas.extend(otras_frutas)\n",
        "print(frutas)\n",
        "\n",
        "frutas.append(otras_frutas)\n",
        "print(frutas)\n",
        "\n",
        "#copiar\n",
        "\n",
        "colores = [\"azul\", \"rojo\", \"verde\",\"azul\"]\n",
        "otros_colores = colores\n",
        "print(colores)\n",
        "print(otros_colores)\n",
        "\n",
        "otros_colores.append(\"Rosa\")\n",
        "print(colores)\n",
        "print(otros_colores)\n",
        "\n",
        "una_mas = colores.copy()\n",
        "print(una_mas)\n",
        "una_mas.append(\"gris\")\n",
        "print(colores)\n",
        "\n",
        "#unpacking de listas\n",
        "\n",
        "alumno = [\"jesus\",\"perez\",\"herrera\",22,\"ICO\",10.0]\n",
        "#nombre = alumno[0]\n",
        "#paterno = alumno [1]\n",
        "# etc.\n",
        "\n",
        "nombre,paterno,materno,edad,carrera,promedio = alumno\n",
        "print(f\"Alumno:{nombre} carrera: { carrera} promedio={promedio}\")"
      ],
      "execution_count": 31,
      "outputs": [
        {
          "output_type": "stream",
          "text": [
            "['manzana', 'pera', 'aguacate', 'sandía']\n",
            "['manzana', 'pera', 'aguacate', 'sandía', ['aguacate', 'sandía']]\n",
            "['azul', 'rojo', 'verde', 'azul']\n",
            "['azul', 'rojo', 'verde', 'azul']\n",
            "['azul', 'rojo', 'verde', 'azul', 'Rosa']\n",
            "['azul', 'rojo', 'verde', 'azul', 'Rosa']\n",
            "['azul', 'rojo', 'verde', 'azul', 'Rosa']\n",
            "['azul', 'rojo', 'verde', 'azul', 'Rosa']\n",
            "Alumno:jesus carrera: ICO promedio=10.0\n"
          ],
          "name": "stdout"
        }
      ]
    },
    {
      "cell_type": "markdown",
      "metadata": {
        "id": "yGi7oPCOSAFm"
      },
      "source": [
        "#TUPLAS\n",
        "- se declaran con ( )\n",
        "- selector con [ ]\n",
        "- NO SON MUTABLES\n",
        "\n",
        "Sirve para realizar consultas de listas, también se utiliza cuando se requiere de valores constantes"
      ]
    },
    {
      "cell_type": "code",
      "metadata": {
        "id": "xoGRUly_SXu2",
        "outputId": "d35ccfd8-288c-40b7-bf56-2773403904af",
        "colab": {
          "base_uri": "https://localhost:8080/",
          "height": 50
        }
      },
      "source": [
        "precios = ( 99.9 , 49.9 , 12.45 , 23.3 , 33.44 , 55.66)\n",
        "print(precios[1])\n",
        "# precios[1] = 50.0\n",
        "print(precios)"
      ],
      "execution_count": 34,
      "outputs": [
        {
          "output_type": "stream",
          "text": [
            "49.9\n",
            "(99.9, 49.9, 12.45, 23.3, 33.44, 55.66)\n"
          ],
          "name": "stdout"
        }
      ]
    },
    {
      "cell_type": "markdown",
      "metadata": {
        "id": "vBObcAbrTuHg"
      },
      "source": [
        "#Diccionarios\n",
        "\n",
        "- Se declaran con ()\n",
        "- Sí son mutables\n",
        "- Conjunto de pares llave:valor\n",
        "- Equivalente a los Objetos Jason de JavaScript\n",
        "- Selector str[]"
      ]
    },
    {
      "cell_type": "code",
      "metadata": {
        "id": "C9njA2nqT_8t",
        "outputId": "bde1d324-8a7f-4969-cc0e-e3ba85d78f8d",
        "colab": {
          "base_uri": "https://localhost:8080/",
          "height": 138
        }
      },
      "source": [
        "cliente = { }\n",
        "print(cliente)\n",
        "\n",
        "alumno = {  \"num_cuenta\"  :317118137}\n",
        "print(alumno)\n",
        "\n",
        "alumno = { \n",
        "          \"num_cta\" : 303030303 ,\n",
        "          \"carrera\" : \"ICO\",\n",
        "          \"promedio\" : 9.8,\n",
        "          \"materias\" :[\"EDD\",\"CyP\",\"Calidad\",\"Emprendimiento\"],\n",
        "          \"direccion\" : { \n",
        "                            \"calle\":\"rancho seco\",\n",
        "                            \"numero\" : 23 ,\n",
        "                            \"delegacion\" : \"Neza\",\n",
        "                            \"estado\" : {\n",
        "                                        \"id\" : 15 ,\n",
        "                                        \"nombre\" : \"Estado de Máxico\" ,\n",
        "                                        \"nombre_corto\" : \"EdoMex\"\n",
        "                                        } ,\n",
        "                            \"CP\":57170\n",
        "\n",
        "                        } \n",
        "          }\n",
        "\n",
        "\n",
        "print (alumno)\n",
        "print(alumno['materias'])\n",
        "print(alumno['promedio'])\n",
        "print(alumno['direccion']['estado']['nombre_corto'])"
      ],
      "execution_count": 39,
      "outputs": [
        {
          "output_type": "stream",
          "text": [
            "{}\n",
            "{'num_cuenta': 317118137}\n",
            "{'num_cta': 303030303, 'carrera': 'ICO', 'promedio': 9.8, 'materias': ['EDD', 'CyP', 'Calidad', 'Emprendimiento'], 'direccion': {'calle': 'rancho seco', 'numero': 23, 'delegacion': 'Neza', 'estado': {'id': 15, 'nombre': 'Estado de Máxico', 'nombre_corto': 'EdoMex'}, 'CP': 57170}}\n",
            "['EDD', 'CyP', 'Calidad', 'Emprendimiento']\n",
            "9.8\n",
            "EdoMex\n"
          ],
          "name": "stdout"
        }
      ]
    }
  ]
}