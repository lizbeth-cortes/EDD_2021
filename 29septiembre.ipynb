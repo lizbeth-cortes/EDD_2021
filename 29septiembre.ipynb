{
  "nbformat": 4,
  "nbformat_minor": 0,
  "metadata": {
    "colab": {
      "name": "Untitled0.ipynb",
      "provenance": [],
      "authorship_tag": "ABX9TyP9K7viJxcQXG3UM/Wtlu9Y",
      "include_colab_link": true
    },
    "kernelspec": {
      "name": "python3",
      "display_name": "Python 3"
    }
  },
  "cells": [
    {
      "cell_type": "markdown",
      "metadata": {
        "id": "view-in-github",
        "colab_type": "text"
      },
      "source": [
        "<a href=\"https://colab.research.google.com/github/lizbeth-cortes/edd_1310_2021/blob/master/29septiembre.ipynb\" target=\"_parent\"><img src=\"https://colab.research.google.com/assets/colab-badge.svg\" alt=\"Open In Colab\"/></a>"
      ]
    },
    {
      "cell_type": "code",
      "metadata": {
        "id": "ppMjrd69sql8"
      },
      "source": [
        "edad = 10 "
      ],
      "execution_count": 2,
      "outputs": []
    },
    {
      "cell_type": "code",
      "metadata": {
        "id": "k0D_pmzRvIWf",
        "outputId": "b89dd6ce-ec2b-4f13-8b0b-ad29f4e28a5d",
        "colab": {
          "base_uri": "https://localhost:8080/",
          "height": 51
        }
      },
      "source": [
        "print(edad)\n",
        "colores = ['rojo','azul', 'verde', 'morado', 'violeta']\n",
        "print (colores)"
      ],
      "execution_count": 8,
      "outputs": [
        {
          "output_type": "stream",
          "text": [
            "10\n",
            "['rojo', 'azul', 'verde', 'morado', 'violeta']\n"
          ],
          "name": "stdout"
        }
      ]
    },
    {
      "cell_type": "code",
      "metadata": {
        "id": "GJXahWpUvyp3",
        "outputId": "bb718af0-34b4-4ead-9b12-195383b80937",
        "colab": {
          "base_uri": "https://localhost:8080/",
          "height": 35
        }
      },
      "source": [
        "colores [3]"
      ],
      "execution_count": 9,
      "outputs": [
        {
          "output_type": "execute_result",
          "data": {
            "application/vnd.google.colaboratory.intrinsic+json": {
              "type": "string"
            },
            "text/plain": [
              "'morado'"
            ]
          },
          "metadata": {
            "tags": []
          },
          "execution_count": 9
        }
      ]
    },
    {
      "cell_type": "code",
      "metadata": {
        "id": "v8JKdpMDwvdl",
        "outputId": "59391662-fc79-4c93-adf0-cdb8f87a73b8",
        "colab": {
          "base_uri": "https://localhost:8080/",
          "height": 34
        }
      },
      "source": [
        "print (colores [3][2:4])\n",
        "nombre = 'Alberto'"
      ],
      "execution_count": 18,
      "outputs": [
        {
          "output_type": "stream",
          "text": [
            "ra\n"
          ],
          "name": "stdout"
        }
      ]
    },
    {
      "cell_type": "markdown",
      "metadata": {
        "id": "9Ve63W9SyJKY"
      },
      "source": [
        "#For en Python 3\n",
        "2 variantes\n",
        "1. j in range (ini, tope, incremento)\n",
        "2. in [iterador]"
      ]
    },
    {
      "cell_type": "code",
      "metadata": {
        "id": "guqrlPcjy5ij",
        "outputId": "70361d5a-f599-4b0f-c0dd-73dce9668b72",
        "colab": {
          "base_uri": "https://localhost:8080/",
          "height": 102
        }
      },
      "source": [
        "#j va de 0 a cinco, aumenta de 1 en 1\n",
        "for j in range (0,5,1):\n",
        "  print (colores[j])"
      ],
      "execution_count": 15,
      "outputs": [
        {
          "output_type": "stream",
          "text": [
            "rojo\n",
            "azul\n",
            "verde\n",
            "morado\n",
            "violeta\n"
          ],
          "name": "stdout"
        }
      ]
    },
    {
      "cell_type": "code",
      "metadata": {
        "id": "nmXJloPPzyoj",
        "outputId": "98a5666e-c932-40b0-ee34-c13bb1d4ba50",
        "colab": {
          "base_uri": "https://localhost:8080/",
          "height": 102
        }
      },
      "source": [
        "for color in colores:\n",
        "  print(color)"
      ],
      "execution_count": 13,
      "outputs": [
        {
          "output_type": "stream",
          "text": [
            "rojo\n",
            "azul\n",
            "verde\n",
            "morado\n",
            "violeta\n"
          ],
          "name": "stdout"
        }
      ]
    },
    {
      "cell_type": "code",
      "metadata": {
        "id": "9KAg1se30qoG",
        "outputId": "31dd9c83-63c5-47fd-fc6e-b87a22bba6f2",
        "colab": {
          "base_uri": "https://localhost:8080/",
          "height": 136
        }
      },
      "source": [
        "for j in range(0, len(nombre),1):\n",
        "  print (nombre[j])"
      ],
      "execution_count": 19,
      "outputs": [
        {
          "output_type": "stream",
          "text": [
            "A\n",
            "l\n",
            "b\n",
            "e\n",
            "r\n",
            "t\n",
            "o\n"
          ],
          "name": "stdout"
        }
      ]
    },
    {
      "cell_type": "code",
      "metadata": {
        "id": "qtLXflom1SEq",
        "outputId": "0bf6e765-007e-4702-c3ec-45d94194d9e3",
        "colab": {
          "base_uri": "https://localhost:8080/",
          "height": 136
        }
      },
      "source": [
        "for letra in nombre:\n",
        "  print (letra)"
      ],
      "execution_count": 20,
      "outputs": [
        {
          "output_type": "stream",
          "text": [
            "A\n",
            "l\n",
            "b\n",
            "e\n",
            "r\n",
            "t\n",
            "o\n"
          ],
          "name": "stdout"
        }
      ]
    },
    {
      "cell_type": "markdown",
      "metadata": {
        "id": "YUFphz0D1ja5"
      },
      "source": [
        "# Qué es Markdown\n",
        "Markdown es un lenguaje de marcado para documentar código, el motivo es simplificar el código del lenguaje HTML\n",
        "---\n",
        "***negritas***\n",
        "***\n",
        "Para más información en [https://www.google.com/search?q=apostrofe&oq=apos&aqs=chrome.1.69i57j69i59j0l2j46j0l3.2747j0j7&sourceid=chrome&ie=UTF-8 ]\n",
        "***\n",
        "![perritos ] (https://upload.wikimedia.org/wikipedia/commons/thumb/5/51/Aragon_Jonhy_corel.jpg/240px-Aragon_Jonhy_corel.jpg) **Se copia la dirección de la imagen\n"
      ]
    }
  ]
}