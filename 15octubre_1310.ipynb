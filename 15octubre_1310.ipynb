{
  "nbformat": 4,
  "nbformat_minor": 0,
  "metadata": {
    "colab": {
      "name": "15octubre_1310.ipynb",
      "provenance": [],
      "authorship_tag": "ABX9TyNEMUdMGrDzUNIJs3vQYjC/",
      "include_colab_link": true
    },
    "kernelspec": {
      "name": "python3",
      "display_name": "Python 3"
    }
  },
  "cells": [
    {
      "cell_type": "markdown",
      "metadata": {
        "id": "view-in-github",
        "colab_type": "text"
      },
      "source": [
        "<a href=\"https://colab.research.google.com/github/lizbeth-cortes/edd_1310_2021/blob/master/15octubre_1310.ipynb\" target=\"_parent\"><img src=\"https://colab.research.google.com/assets/colab-badge.svg\" alt=\"Open In Colab\"/></a>"
      ]
    },
    {
      "cell_type": "code",
      "metadata": {
        "id": "tkZMc699BXI-"
      },
      "source": [
        ""
      ],
      "execution_count": null,
      "outputs": []
    },
    {
      "cell_type": "markdown",
      "metadata": {
        "id": "zOQLzzedBzpP"
      },
      "source": [
        "# MÓDULOS\n",
        "Son recursos reutilizables que contienen varias funciones que pueden ser importadas a tu código"
      ]
    },
    {
      "cell_type": "code",
      "metadata": {
        "id": "yCtnWvLgCCia",
        "outputId": "922a4aa1-1ddd-4620-996b-3860fc15a196",
        "colab": {
          "base_uri": "https://localhost:8080/",
          "height": 101
        }
      },
      "source": [
        "\n",
        "import mi_modulo\n",
        "x = mi_modulo.sumar(4, 7)\n",
        "print(x)\n",
        "print(mi_modulo.multiplicar(3,5))\n",
        "print(\"-------------------\")\n",
        "#Podemos selecionar específicamene qué métodos podemos usar\n",
        "from mi_modulo import sumar,restar,dividir\n",
        "print(sumar(4,7))\n",
        "print(dividir(3,4))"
      ],
      "execution_count": 11,
      "outputs": [
        {
          "output_type": "stream",
          "text": [
            "11\n",
            "15\n",
            "-------------------\n",
            "11\n",
            "0.75\n"
          ],
          "name": "stdout"
        }
      ]
    },
    {
      "cell_type": "code",
      "metadata": {
        "id": "6RHowpDYLTdQ",
        "outputId": "9e7b4b78-2c9f-4c21-824c-a85743678fca",
        "colab": {
          "base_uri": "https://localhost:8080/",
          "height": 34
        }
      },
      "source": [
        "#A los módulos les podemos poner un alias\n",
        "import mi_modulo as patito\n",
        "print(patito.sumar(3,3))"
      ],
      "execution_count": 8,
      "outputs": [
        {
          "output_type": "stream",
          "text": [
            "6\n"
          ],
          "name": "stdout"
        }
      ]
    },
    {
      "cell_type": "code",
      "metadata": {
        "id": "KWtpjcIaOF-1",
        "outputId": "6a08d1e2-6aae-4c40-8ccd-1e1a578f4721",
        "colab": {
          "base_uri": "https://localhost:8080/",
          "height": 35
        }
      },
      "source": [
        "from joke_generator import generate\n",
        "\n",
        "generate()"
      ],
      "execution_count": 16,
      "outputs": [
        {
          "output_type": "execute_result",
          "data": {
            "application/vnd.google.colaboratory.intrinsic+json": {
              "type": "string"
            },
            "text/plain": [
              "'Why did Dracula lie in the wrong coffin? He made a grave mistake.'"
            ]
          },
          "metadata": {
            "tags": []
          },
          "execution_count": 16
        }
      ]
    },
    {
      "cell_type": "markdown",
      "metadata": {
        "id": "EtaXKVzXSZBx"
      },
      "source": [
        "# Archivos\n",
        "- open (str, str)\n",
        "  1. Nombre o ruta del archivo\n",
        "  2. Dos caracteres\n",
        "      - modo de apertura del archivo (r,w,a)\n",
        "      (r,w,a  append si y sólo si el archivo existe, x append si y solo si el archivo no existe)\n",
        "      - Formato del archivo (t o b)\n",
        "\n"
      ]
    },
    {
      "cell_type": "code",
      "metadata": {
        "id": "5hnRrsbkS0og"
      },
      "source": [
        "archivo = open('saludo.txt','wt')\n",
        "archivo.write(\"Hola mundo \\n Ola k ase\")\n",
        "archivo.close()\n"
      ],
      "execution_count": 29,
      "outputs": []
    },
    {
      "cell_type": "code",
      "metadata": {
        "id": "EZ95BezoUc0s",
        "outputId": "e412968a-c2f3-4717-f6b6-284e6c96f35f",
        "colab": {
          "base_uri": "https://localhost:8080/",
          "height": 135
        }
      },
      "source": [
        "otro = open('./sample_data/anscombe.json')\n",
        "datos = otro.read()\n",
        "#print(datos)\n",
        "otro.close()\n",
        "\n",
        "arch = open('frutas.txt','rt')\n",
        "data = 'ppp'\n",
        "while (data != ''):\n",
        "  data = arch.readline()\n",
        "  print(data)\n",
        "\n",
        "arch.close()\n",
        "arch = open('frutas.txt','rt')\n",
        "list_frutas = arch.readlines()\n",
        "print(list_frutas)\n",
        "arch.close()"
      ],
      "execution_count": 48,
      "outputs": [
        {
          "output_type": "stream",
          "text": [
            "manzana,pera , kiwi ,aguacate\n",
            "\n",
            "limon , naranja\n",
            "\n",
            "sandia , papaya\n",
            "\n",
            "['manzana,pera , kiwi ,aguacate\\n', 'limon , naranja\\n', 'sandia , papaya']\n"
          ],
          "name": "stdout"
        }
      ]
    },
    {
      "cell_type": "code",
      "metadata": {
        "id": "4CNYfmC6Wp1E"
      },
      "source": [
        "help(otro)"
      ],
      "execution_count": null,
      "outputs": []
    }
  ]
}