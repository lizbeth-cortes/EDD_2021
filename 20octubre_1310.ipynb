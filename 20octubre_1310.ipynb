{
  "nbformat": 4,
  "nbformat_minor": 0,
  "metadata": {
    "colab": {
      "name": "20octubre_1310.ipynb",
      "provenance": [],
      "authorship_tag": "ABX9TyMJgmqhjbygvD/tupNmyZ4q",
      "include_colab_link": true
    },
    "kernelspec": {
      "name": "python3",
      "display_name": "Python 3"
    }
  },
  "cells": [
    {
      "cell_type": "markdown",
      "metadata": {
        "id": "view-in-github",
        "colab_type": "text"
      },
      "source": [
        "<a href=\"https://colab.research.google.com/github/lizbeth-cortes/edd_1310_2021/blob/master/20octubre_1310.ipynb\" target=\"_parent\"><img src=\"https://colab.research.google.com/assets/colab-badge.svg\" alt=\"Open In Colab\"/></a>"
      ]
    },
    {
      "cell_type": "code",
      "metadata": {
        "id": "dDDwr7YdzKTN"
      },
      "source": [
        "archivo = open('numeros.txt','rt')\n",
        "for linea in archivo.readlines():\n",
        "  for trunc in linea.split(','):\n",
        "    print(int(trunc.strip()))"
      ],
      "execution_count": 14,
      "outputs": []
    },
    {
      "cell_type": "markdown",
      "metadata": {
        "id": "tiU8kOu22yVn"
      },
      "source": [
        "# Sintaxis del for\n",
        "  Dos versiones de for\n",
        "  \n",
        "    1. range\n",
        "    2. in iterator"
      ]
    },
    {
      "cell_type": "code",
      "metadata": {
        "id": "AYmzhdLv3FU6",
        "outputId": "2d87fe6a-f414-4cab-a400-c9c1727ed14d",
        "colab": {
          "base_uri": "https://localhost:8080/",
          "height": 168
        }
      },
      "source": [
        "r = range(0,10,2)\n",
        "for x in r:\n",
        "  print(x)\n",
        "\n",
        "colores = ['rojo', 'rosa', 'azul', 'fucsia'] #for (indice = 0, indice<4, indice=1)\n",
        "for indice in range(0,len(colores),1):\n",
        "  #print(colores[indice])\n",
        "  colores[indice] = colores[indice].upper()\n",
        "  #print(colores[indice])\n",
        "  colores[indice] = colores[indice]+str(indice)\n",
        "\n",
        "#for sobre un iterador\n",
        "for col in colores:\n",
        "  print(col)"
      ],
      "execution_count": 25,
      "outputs": [
        {
          "output_type": "stream",
          "text": [
            "0\n",
            "2\n",
            "4\n",
            "6\n",
            "8\n",
            "ROJO0\n",
            "ROSA1\n",
            "AZUL2\n",
            "FUCSIA3\n"
          ],
          "name": "stdout"
        }
      ]
    },
    {
      "cell_type": "markdown",
      "metadata": {
        "id": "qtkZsQ0-8A7g"
      },
      "source": [
        "# Generadores\n",
        "\n",
        "[valor for x in range() ]\n",
        "\n",
        "`\n",
        "[[0,0,0],\n",
        "[0,0,0],\n",
        "[0,0,0]]\n",
        "`"
      ]
    },
    {
      "cell_type": "code",
      "metadata": {
        "id": "bZhDmu-L8Xfu",
        "outputId": "d3029a39-5cfa-4312-a722-1536881a655b",
        "colab": {
          "base_uri": "https://localhost:8080/",
          "height": 84
        }
      },
      "source": [
        "lista = [0 for x in range(10)]\n",
        "print(lista)\n",
        "print(\"-----\")\n",
        "lista = [x for x in range(10)]\n",
        "print(lista)\n",
        "\n",
        "lista = [[0,0,0] for x in range(3)]\n",
        "print(lista)"
      ],
      "execution_count": 30,
      "outputs": [
        {
          "output_type": "stream",
          "text": [
            "[0, 0, 0, 0, 0, 0, 0, 0, 0, 0]\n",
            "-----\n",
            "[0, 1, 2, 3, 4, 5, 6, 7, 8, 9]\n",
            "[[0, 0, 0], [0, 0, 0], [0, 0, 0]]\n"
          ],
          "name": "stdout"
        }
      ]
    },
    {
      "cell_type": "code",
      "metadata": {
        "id": "RSD6zcQP9-kC",
        "outputId": "010e61a9-5916-42b5-844e-93839947f884",
        "colab": {
          "base_uri": "https://localhost:8080/",
          "height": 67
        }
      },
      "source": [
        "lista = [[0 for x in range (3)] for z in range (3)]\n",
        "print(lista)\n",
        "print(\"----\")\n",
        "ren = 3\n",
        "col = 2\n",
        "lista = [[0 for x in range (col)] for z in range (ren)] #el primer range manipula la cantidad de elemnetos dentro de las listas y el segundo manipula la cantidad de listas\n",
        "print(lista)\n"
      ],
      "execution_count": 40,
      "outputs": [
        {
          "output_type": "stream",
          "text": [
            "[[0, 0, 0], [0, 0, 0], [0, 0, 0]]\n",
            "----\n",
            "[[0, 0], [0, 0], [0, 0]]\n"
          ],
          "name": "stdout"
        }
      ]
    },
    {
      "cell_type": "markdown",
      "metadata": {
        "id": "EP0e5wj5_a7n"
      },
      "source": [
        "#POO\n",
        "- Clase\n",
        "- Creación de objetos\n",
        "- Construcutor\n",
        "- Encapsulamiento\n",
        "- Métodos\n",
        "- Atributos\n",
        "- Herencia"
      ]
    },
    {
      "cell_type": "code",
      "metadata": {
        "id": "sHdDhyc-_qyp",
        "outputId": "cdfe2ddf-e4e3-4f05-81b4-4ecc6932aa80",
        "colab": {
          "base_uri": "https://localhost:8080/",
          "height": 50
        }
      },
      "source": [
        "class Computadora:\n",
        "  #Siempre se coloca 2 guiones bajos\n",
        "  #Self es un ajuste que sirve para simular bien la orientación a objetos\n",
        "  def __init__( self, m,p):\n",
        "    self.__marca = m #Los dos guiones bajos antes de la variables significan \"privado\"\n",
        "    self.__procesador = p\n",
        "\n",
        "  def to_string( self ):\n",
        "    return \"Marca: \"+self.__marca+\" \\nProcesador:\"+self.__procesador\n",
        "  \n",
        "mi_pc = Computadora(\"Toshiba\", \"Intel i7\")\n",
        "mi_pc.__marca= \"HP\"\n",
        "print(mi_pc.to_string())\n"
      ],
      "execution_count": 59,
      "outputs": [
        {
          "output_type": "stream",
          "text": [
            "Marca: Toshiba \n",
            "Procesador:Intel i7\n"
          ],
          "name": "stdout"
        }
      ]
    }
  ]
}