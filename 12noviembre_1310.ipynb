{
  "nbformat": 4,
  "nbformat_minor": 0,
  "metadata": {
    "colab": {
      "name": "12noviembre_1310.ipynb",
      "provenance": [],
      "authorship_tag": "ABX9TyNj/U+Dau8tzIcKmwcHotKt",
      "include_colab_link": true
    },
    "kernelspec": {
      "name": "python3",
      "display_name": "Python 3"
    }
  },
  "cells": [
    {
      "cell_type": "markdown",
      "metadata": {
        "id": "view-in-github",
        "colab_type": "text"
      },
      "source": [
        "<a href=\"https://colab.research.google.com/github/lizbeth-cortes/edd_1310_2021/blob/master/12noviembre_1310.ipynb\" target=\"_parent\"><img src=\"https://colab.research.google.com/assets/colab-badge.svg\" alt=\"Open In Colab\"/></a>"
      ]
    },
    {
      "cell_type": "code",
      "metadata": {
        "id": "VFed2RMNcPU_",
        "outputId": "7cfa2a8a-4e23-4e37-aaf2-928521571934",
        "colab": {
          "base_uri": "https://localhost:8080/"
        }
      },
      "source": [
        "class Nodo:\n",
        "    def __init__( self , dato ):\n",
        "        self.dato = dato\n",
        "        self.siguiente = None\n",
        "\n",
        "\n",
        "# Ejemplo 1\n",
        "a = Nodo( 12 )\n",
        "print(a.dato)\n",
        "print(a.siguiente)\n",
        "# ejemplo 2\n",
        "a.siguiente= Nodo(20) \n",
        "\n",
        "#Ejemplo 3\n",
        "a.siguiente.siguiente=Nodo (30)\n",
        "\n",
        "#Ejemplo 4\n",
        "a.siguiente.siguiente.siguiente=Nodo (40)\n",
        "\n",
        "#Ejemplo 5\n",
        "a.siguiente.siguiente.siguiente.siguiente=Nodo (50)\n",
        "\n",
        "#Ejemplo 6=Eliminado el nodo 30\n",
        "a.siguiente.siguiente=a.siguiente.siguiente.siguiente\n",
        "\n",
        "#Ejemplo 7. Cambiar un dato\n",
        "a.siguiente.siguiente.dato=45\n",
        "#a.siguiente.siguiente.siguiente.dato=45\n",
        "\n",
        "\n",
        "#Ejemplo 8 Insertar un dato entre dos.\n",
        "tmp= a.siguiente.siguiente.siguiente#Respaldo del nodo 50, para que no se pierda\n",
        "a.siguiente.siguiente.siguiente=Nodo(48) #Crear un nuevo nodo\n",
        "a.siguiente.siguiente.siguiente.siguiente= tmp #Se velve a agregar el nodo 50\n",
        "\n",
        "#Recorrido transversal\n",
        "curr_node=a\n",
        "print(curr_node.dato,\"---> \",end=\"\")\n",
        "while( curr_node.siguiente != None ):\n",
        "    curr_node = curr_node.siguiente\n",
        "    print(curr_node.dato, \" --> \" , end =\"\" )\n",
        "print(\"\")"
      ],
      "execution_count": null,
      "outputs": [
        {
          "output_type": "stream",
          "text": [
            "12\n",
            "None\n",
            "12 ---> 20  --> 40  --> 48  --> 45  --> \n"
          ],
          "name": "stdout"
        }
      ]
    },
    {
      "cell_type": "code",
      "metadata": {
        "id": "yv9ZdD3BwLE7",
        "outputId": "515b505d-2c08-4410-b463-79add5178a37",
        "colab": {
          "base_uri": "https://localhost:8080/"
        }
      },
      "source": [
        "class Nodo:\n",
        "    def __init__( self , dato  , sig=None ):\n",
        "        self.dato = dato\n",
        "        self.siguiente = sig\n",
        "\n",
        "# Ejemplo 1\n",
        "a = Nodo( 10 )\n",
        "\n",
        "# Ejemplo 2   RECONSTRUCCION\n",
        "a = Nodo(10 , Nodo(20) )\n",
        "\n",
        "a = Nodo(10 , Nodo(20, Nodo(30)) )\n",
        "\n",
        "a = Nodo(10 , Nodo(20, Nodo(30,Nodo(40,Nodo(50)))) )\n",
        "\n",
        "\n",
        "curr_node = a\n",
        "print(curr_node.dato , \"-->\" , end=\"\")\n",
        "while( curr_node.siguiente != None ):\n",
        "    curr_node = curr_node.siguiente\n",
        "    print(curr_node.dato, \"-->\" , end=\"\")\n",
        "print(\"\")"
      ],
      "execution_count": null,
      "outputs": [
        {
          "output_type": "stream",
          "text": [
            "10 -->20 -->30 -->40 -->50 -->\n"
          ],
          "name": "stdout"
        }
      ]
    }
  ]
}