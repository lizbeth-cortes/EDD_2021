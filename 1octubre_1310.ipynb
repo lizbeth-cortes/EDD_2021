{
  "nbformat": 4,
  "nbformat_minor": 0,
  "metadata": {
    "colab": {
      "name": "1octubre_1310.ipynb",
      "provenance": [],
      "authorship_tag": "ABX9TyMag8Zt+WK2ZZUtPsK5FzHG",
      "include_colab_link": true
    },
    "kernelspec": {
      "name": "python3",
      "display_name": "Python 3"
    }
  },
  "cells": [
    {
      "cell_type": "markdown",
      "metadata": {
        "id": "view-in-github",
        "colab_type": "text"
      },
      "source": [
        "<a href=\"https://colab.research.google.com/github/lizbeth-cortes/edd_1310_2021/blob/master/1octubre_1310.ipynb\" target=\"_parent\"><img src=\"https://colab.research.google.com/assets/colab-badge.svg\" alt=\"Open In Colab\"/></a>"
      ]
    },
    {
      "cell_type": "markdown",
      "metadata": {
        "id": "VXQYcM6F7rL_"
      },
      "source": [
        "# Intro Python\n",
        "## Variables\n",
        "Tipo dinámico\n",
        "\n",
        "escuela = \"FES ARAGÓN\""
      ]
    },
    {
      "cell_type": "code",
      "metadata": {
        "id": "KHBS7bTu7KuJ",
        "outputId": "dcbdb4cc-a05f-40b8-c262-6cf0657bc2d1",
        "colab": {
          "base_uri": "https://localhost:8080/",
          "height": 153
        }
      },
      "source": [
        "escuela = \"FES ARAGON\"\n",
        "print (escuela)\n",
        "print (\"-------\")\n",
        "edad = 13\n",
        "estatura = 1.67\n",
        "fumador = True\n",
        "frase = \"\"\"\n",
        "Esta es\n",
        "una frase\n",
        "de múltiples líneas\n",
        "y también es un tipo de dato\n",
        "\"\"\"\n",
        "print (frase)\n",
        "nombre = \"josue\"\n",
        "nombre_completo = \"josue sosa cardenas\"\n"
      ],
      "execution_count": 7,
      "outputs": [
        {
          "output_type": "stream",
          "text": [
            "FES ARAGON\n",
            "-------\n",
            "\n",
            "Esta es\n",
            "una frase\n",
            "de múltiples líneas\n",
            "y también es un tipo de dato\n",
            "\n"
          ],
          "name": "stdout"
        }
      ]
    },
    {
      "cell_type": "markdown",
      "metadata": {
        "id": "3LpIu9bk7omg"
      },
      "source": [
        "#Print\n",
        "con comas ,\n",
        "con sigmo +\n",
        "con format ()\n",
        "con el operador f\"\"\n"
      ]
    },
    {
      "cell_type": "code",
      "metadata": {
        "id": "RenFxo-H-Wjj",
        "outputId": "d9913b7c-99a9-4c73-8161-30c063b50cc8",
        "colab": {
          "base_uri": "https://localhost:8080/",
          "height": 34
        }
      },
      "source": [
        "print (nombre, edad)"
      ],
      "execution_count": 6,
      "outputs": [
        {
          "output_type": "stream",
          "text": [
            "josue2 13\n"
          ],
          "name": "stdout"
        }
      ]
    },
    {
      "cell_type": "code",
      "metadata": {
        "id": "LafhBaLI_AQ6",
        "outputId": "f5a8c495-0553-4641-e3e0-f180e69e8c1d",
        "colab": {
          "base_uri": "https://localhost:8080/",
          "height": 51
        }
      },
      "source": [
        "# el + concatena cadenas, por eso hay que definir el tipo\n",
        "print (nombre + str(edad))\n",
        "print (nombre+nombre_completo)\n",
        "# las variables en Python se escriben como snike case (palabras en minúsculas se separan cpn guiones)"
      ],
      "execution_count": 9,
      "outputs": [
        {
          "output_type": "stream",
          "text": [
            "josue13\n",
            "josuejosue sosa cardenas\n"
          ],
          "name": "stdout"
        }
      ]
    },
    {
      "cell_type": "code",
      "metadata": {
        "id": "qcZuhFTEATlk",
        "outputId": "e8e95985-0b17-4523-f27d-a7a0cb0e836a",
        "colab": {
          "base_uri": "https://localhost:8080/",
          "height": 51
        }
      },
      "source": [
        "# con formato -> Su nombre es Jose y su edad es de 13 años\n",
        "print (\"Su nombre es \", nombre,\"y su edad es de\", edad,\"años\")\n",
        "# Con format se puede jugar con los índices\n",
        "print (\"Su nombre es {0} y su edad es de {1} años.\".format(nombre,edad))\n",
        "print (\"Su nombre es {0} y su edad es de {1} años.\".format(nombre,edad))"
      ],
      "execution_count": 11,
      "outputs": [
        {
          "output_type": "stream",
          "text": [
            "Su nombre es  josue y su edad es de 13 años\n",
            "Su nombre es josue y su edad es de 13 años.\n"
          ],
          "name": "stdout"
        }
      ]
    },
    {
      "cell_type": "code",
      "metadata": {
        "id": "gO1IDJ91BtS_",
        "outputId": "517a0a17-20df-4247-b6c3-71d7bb5727d9",
        "colab": {
          "base_uri": "https://localhost:8080/",
          "height": 34
        }
      },
      "source": [
        "# Con formato con el operador f\"\"\n",
        "print (f\"Su nombre es \\\"{nombre}\\\" y su edad es de {edad} años.\")"
      ],
      "execution_count": 13,
      "outputs": [
        {
          "output_type": "stream",
          "text": [
            "Su nombre es \"josue\" y su edad es de 13 años.\n"
          ],
          "name": "stdout"
        }
      ]
    },
    {
      "cell_type": "markdown",
      "metadata": {
        "id": "JL0rYY1wCYZc"
      },
      "source": [
        "# Caracter de escape\n",
        "\\n salto de línea\n",
        "\n",
        "\\t tabulador\n",
        "\n",
        "\\a beep\n",
        "\n",
        "\\\" imprimir comilla doble \\\", ejemplo:\n",
        "\n",
        "\\\"{nombre}\\\"\n",
        "\n",
        "\\'  imrpimir comilla simple\n",
        "\n"
      ]
    },
    {
      "cell_type": "code",
      "metadata": {
        "id": "3JLqSA2-Dh7e",
        "outputId": "830f7680-71e2-4145-f8ad-466494382126",
        "colab": {
          "base_uri": "https://localhost:8080/",
          "height": 51
        }
      },
      "source": [
        "print (f\"\\tMi nombre es \\n\\t\\t {nombre}\")"
      ],
      "execution_count": 14,
      "outputs": [
        {
          "output_type": "stream",
          "text": [
            "\tMi nombre es \n",
            "\t\t josue\n"
          ],
          "name": "stdout"
        }
      ]
    },
    {
      "cell_type": "markdown",
      "metadata": {
        "id": "U8eLUwKGD5ga"
      },
      "source": [
        "#Ayuda de tipos de datos en Python\n",
        "dir ()   --> Te informa sobre métodos o funciones que tiene un tipo de dato\n",
        "\n",
        "help ()  --> Te informa sobre métodos o funciones que tiene un tipo de dato pero con más detalle\n",
        "\n",
        "No se puede ejecutar al mismo tiempo, al llamarlos hacerlo en una celda nueva?"
      ]
    },
    {
      "cell_type": "code",
      "metadata": {
        "id": "uY720aqYEmxL"
      },
      "source": [
        "dir(str)\n",
        "print (---------)\n"
      ],
      "execution_count": null,
      "outputs": []
    },
    {
      "cell_type": "code",
      "metadata": {
        "id": "xjV1ITXEFOS0"
      },
      "source": [
        "help(str)"
      ],
      "execution_count": null,
      "outputs": []
    },
    {
      "cell_type": "code",
      "metadata": {
        "id": "bJ6aZaN4FZQy",
        "outputId": "7fd37a83-334e-4c27-d17b-ebf3179253c2",
        "colab": {
          "base_uri": "https://localhost:8080/",
          "height": 51
        }
      },
      "source": [
        "print (nombre_completo.capitalize())\n",
        "print (nombre_completo.upper(), end=\"------\")\n",
        "print (nombre_completo.title())"
      ],
      "execution_count": 20,
      "outputs": [
        {
          "output_type": "stream",
          "text": [
            "Josue sosa cardenas\n",
            "JOSUE SOSA CARDENAS------Josue Sosa Cardenas\n"
          ],
          "name": "stdout"
        }
      ]
    },
    {
      "cell_type": "markdown",
      "metadata": {
        "id": "qukczLjRG5V4"
      },
      "source": [
        "#Clase String\n",
        "Es manejada como un arreglo (c o java) o lista (python)\n",
        "telefono = \"Huawei mate 30 pro\""
      ]
    },
    {
      "cell_type": "code",
      "metadata": {
        "id": "640pos3GF_L8",
        "outputId": "61bdba61-783a-4e08-af86-35324103368b",
        "colab": {
          "base_uri": "https://localhost:8080/",
          "height": 34
        }
      },
      "source": [
        "telefono = \"Huawei mate 30 pro\"\n",
        "print (telefono[5])\n"
      ],
      "execution_count": 22,
      "outputs": [
        {
          "output_type": "stream",
          "text": [
            "i\n"
          ],
          "name": "stdout"
        }
      ]
    },
    {
      "cell_type": "markdown",
      "metadata": {
        "id": "jSlXgORVIauF"
      },
      "source": [
        "#Slicing (rebanado)\n",
        "[ini: stop: incremento]\n",
        "nota: el stop no se incluye, termina en el valor anterior al stop"
      ]
    },
    {
      "cell_type": "code",
      "metadata": {
        "id": "MuxynGj-IRi_",
        "outputId": "4d39f51d-9ba0-49c7-e865-cc6cfa3a9837",
        "colab": {
          "base_uri": "https://localhost:8080/",
          "height": 119
        }
      },
      "source": [
        "print (telefono[7:11:1]) \n",
        "# el inicio y el incremento son opcionales\n",
        "print (telefono[:11:])\n",
        "#el valor por defecto de stop es hasta que termine toda la cadena, es decir, len(str)\n",
        "print (telefono[::])\n",
        "#incremento negativo\n",
        "print (telefono[::-1])\n",
        "#slicing negativo\n",
        "print (telefono[-3::1])\n",
        "# se puede usar variables dentro de []\n",
        "ini=-3\n",
        "inc=1\n",
        "print (telefono[ini::inc])"
      ],
      "execution_count": 28,
      "outputs": [
        {
          "output_type": "stream",
          "text": [
            "mate\n",
            "Huawei mate\n",
            "Huawei mate 30 pro\n",
            "orp 03 etam iewauH\n",
            "pro\n",
            "pro\n"
          ],
          "name": "stdout"
        }
      ]
    },
    {
      "cell_type": "markdown",
      "metadata": {
        "id": "zV2pdryUNKE5"
      },
      "source": [
        "#Métodos de string (str)\n",
        "Existen métodos muy útiles en esta clase.\n"
      ]
    },
    {
      "cell_type": "code",
      "metadata": {
        "id": "KCQN7kUKNb6t",
        "outputId": "dbdc7461-9379-405b-b82a-1d7d13e5ff04",
        "colab": {
          "base_uri": "https://localhost:8080/",
          "height": 374
        }
      },
      "source": [
        "facultad =\"   facultad de Estudios fes Aragon   \\n\"\n",
        "# Cuenta el número de elemento específico en una cadena\n",
        "print(facultad.count(\"f\")) \n",
        "#Busca y muestra el índice del elemento en específico\n",
        "print(facultad.find(\"f\")) \n",
        "# Te dice el índice de la primera coincidencia\n",
        "print(facultad.index(\"s\"))\n",
        "#Remueve los espacios en blanco del principio y del final, y quita los saltos en línea\n",
        "print(facultad.strip())\n",
        "#Muestra el tamaño de la cadena \n",
        "tamaño = len(facultad)\n",
        "print(len(facultad))\n",
        "print(f\"El tamaño de la cadena es {tamaño} caracteres\" )\n",
        "#Elimina aquella letra o espacio\n",
        "print(facultad)\n",
        "print(facultad.split(\"t\"))\n",
        "\n",
        "print(facultad.strip().split(\" \"))\n",
        "\n",
        "print(\"------------\")\n",
        "# Copiar cadena\n",
        "otra_cadena = facultad\n",
        "print(otra_cadena)\n",
        "otra_cadena = \"FES ARAGON\"\n",
        "print(facultad)\n",
        "print(otra_cadena)\n",
        "\n",
        "print(\"------------------\")\n",
        "#Copiar listas\n",
        "colores = [\"rojo\",\"verde\"]\n",
        "otra = colores.copy()\n",
        "print(colores)\n",
        "print(otra)\n",
        "otra.append(\"rosa\")\n",
        "print(colores)\n",
        "print(otra)"
      ],
      "execution_count": 55,
      "outputs": [
        {
          "output_type": "stream",
          "text": [
            "2\n",
            "3\n",
            "16\n",
            "facultad de Estudios fes Aragon\n",
            "38\n",
            "El tamaño de la cadena es 38 caracteres\n",
            "   facultad de Estudios fes Aragon   \n",
            "\n",
            "['   facul', 'ad de Es', 'udios fes Aragon   \\n']\n",
            "['facultad', 'de', 'Estudios', 'fes', 'Aragon']\n",
            "------------\n",
            "   facultad de Estudios fes Aragon   \n",
            "\n",
            "   facultad de Estudios fes Aragon   \n",
            "\n",
            "FES ARAGON\n",
            "------------------\n",
            "['rojo', 'verde']\n",
            "['rojo', 'verde']\n",
            "['rojo', 'verde']\n",
            "['rojo', 'verde', 'rosa']\n"
          ],
          "name": "stdout"
        }
      ]
    }
  ]
}