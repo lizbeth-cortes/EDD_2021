{
  "nbformat": 4,
  "nbformat_minor": 0,
  "metadata": {
    "colab": {
      "name": "6octubre_1310.ipynb",
      "provenance": [],
      "authorship_tag": "ABX9TyPhD2K67Ep39+MHZfMGZiog",
      "include_colab_link": true
    },
    "kernelspec": {
      "name": "python3",
      "display_name": "Python 3"
    }
  },
  "cells": [
    {
      "cell_type": "markdown",
      "metadata": {
        "id": "view-in-github",
        "colab_type": "text"
      },
      "source": [
        "<a href=\"https://colab.research.google.com/github/lizbeth-cortes/edd_1310_2021/blob/master/6octubre_1310.ipynb\" target=\"_parent\"><img src=\"https://colab.research.google.com/assets/colab-badge.svg\" alt=\"Open In Colab\"/></a>"
      ]
    },
    {
      "cell_type": "code",
      "metadata": {
        "id": "l6Vo26gHqWmL",
        "outputId": "8f232f48-a8b6-43f5-d4cb-1bdf4c9e6979",
        "colab": {
          "base_uri": "https://localhost:8080/",
          "height": 320
        }
      },
      "source": [
        "#String continuación\n",
        "\n",
        "numeros_txt = \" 1, 2, 3, 4, 5   , 35    , 15    , 12\"\n",
        "print(numeros_txt)\n",
        "\n",
        "numeros_txt = numeros_txt.lstrip().split(',')\n",
        "print(numeros_txt)\n",
        "\n",
        "#En Python para indicar bloques de código se utiliza la tabulación!!!!!!\n",
        "for j in range(len(numeros_txt)): \n",
        "  numeros_txt[j] = int(numeros_txt[j].strip())\n",
        "\n",
        "print(numeros_txt) \n",
        "\n",
        "#Función range\n",
        "#range(inicio, stop, incremento)\n",
        "print(range(0,10,1))\n",
        "rango = range(1,10,1)\n",
        "\n",
        "for x in rango:\n",
        "  print(x)\n",
        "\n",
        "rango=range(5)\n",
        "for x in rango:\n",
        "  print(x)"
      ],
      "execution_count": 14,
      "outputs": [
        {
          "output_type": "stream",
          "text": [
            " 1, 2, 3, 4, 5   , 35    , 15    , 12\n",
            "['1', ' 2', ' 3', ' 4', ' 5   ', ' 35    ', ' 15    ', ' 12']\n",
            "[1, 2, 3, 4, 5, 35, 15, 12]\n",
            "range(0, 10)\n",
            "1\n",
            "2\n",
            "3\n",
            "4\n",
            "5\n",
            "6\n",
            "7\n",
            "8\n",
            "9\n",
            "0\n",
            "1\n",
            "2\n",
            "3\n",
            "4\n"
          ],
          "name": "stdout"
        }
      ]
    },
    {
      "cell_type": "markdown",
      "metadata": {
        "id": "v7cZN-RMxLMM"
      },
      "source": [
        "#LISTAS\n",
        "- mutables\n",
        "- se declaran con []\n",
        "- selector [int] (se coloca el numero de elementos de la lista)\n",
        "- pueden ser de cualquier tipo y mezclado\n",
        "\n",
        "#TUPLAS\n",
        "- no mutables\n",
        "- se declaran con ()\n",
        "- selectos [int]\n",
        "\n",
        "#DICCIONARIOS\n",
        "- son mutables\n",
        "- son conjunto de pares llave:valor\n",
        "- Equivalentes a los Objetos JSON de Javascript\n",
        "\n",
        "#CONJUNTOS\n",
        "- representación de la teoría de conjuntos"
      ]
    },
    {
      "cell_type": "code",
      "metadata": {
        "id": "2DJVGYxbyNx9",
        "outputId": "1b1fcfb0-2c13-4fcf-99d5-d8dc4a8506ce",
        "colab": {
          "base_uri": "https://localhost:8080/",
          "height": 118
        }
      },
      "source": [
        "#Listas\n",
        "frutas = [\"pera\", \"manzana\", \"fresa\", \"kiwi\", \"naranja\"]\n",
        "print(frutas)\n",
        "\n",
        "frutas[2]=\"Fresa\"\n",
        "print(frutas)\n",
        "\n",
        "frutas.append(\"Aguacate\") #append agrega el objeto al final\n",
        "print(frutas)\n",
        "\n",
        "frutas.insert(2,\"Sandía\") #insert agrega un objeto en cualquier posición\n",
        "print(frutas)\n",
        "frutas[0] = frutas[0].capitalize()\n",
        "\n",
        "#concatenar listas\n",
        "#Una lista es una función iterable\n",
        "fecha = [\"06\",\"10\",\"2020\"] #06/10/2020\n",
        "fecha_str = \"/\".join(fecha) #sirve para unir lista que contenga caracteres mediante un elemento\n",
        "print(fecha_str)\n",
        "\n"
      ],
      "execution_count": 26,
      "outputs": [
        {
          "output_type": "stream",
          "text": [
            "['pera', 'manzana', 'fresa', 'kiwi', 'naranja']\n",
            "['cuaderno', 2, 3.1416, True, False, ['Rojo', 'Azul']]\n",
            "['pera', 'manzana', 'Fresa', 'kiwi', 'naranja']\n",
            "['pera', 'manzana', 'Fresa', 'kiwi', 'naranja', 'Aguacate']\n",
            "['pera', 'manzana', 'Sandía', 'Fresa', 'kiwi', 'naranja', 'Aguacate']\n",
            "06/10/2020\n"
          ],
          "name": "stdout"
        }
      ]
    },
    {
      "cell_type": "code",
      "metadata": {
        "id": "x5slV9T23T8z",
        "outputId": "00614a86-2f68-4478-81b7-e9b8b5b5ad7a",
        "colab": {
          "base_uri": "https://localhost:8080/",
          "height": 185
        }
      },
      "source": [
        "#eliminar elementos\n",
        "cosas = [\"cuaderno\", 2, 3.1416, True, False,[\"Rojo\", \"Azul\"]] #Pudes meter más listas\n",
        "print (cosas)\n",
        "cosas.append(\"Libro\")\n",
        "cosas.append(\"Lápiz\")\n",
        "print(cosas)\n",
        "\n",
        "algo = cosas.pop() #pop remuerve o regresa un elemento en el índice especificado, si no se indica por defecto se va contra el último elemento.\n",
        "print (cosas)\n",
        "print(algo)\n",
        "\n",
        "algo = cosas.pop(2)\n",
        "print(cosas)\n",
        "print(algo)\n",
        "\n",
        "cosas.remove(2) #remove remueve un elemento en específico\n",
        "print (cosas)\n",
        "\n",
        "#vaciar lista\n",
        "cosas.clear()\n",
        "print(cosas)\n",
        "\n",
        "#ordenar listas\n",
        "#Se ordena conforme al abecedario, y también se ordena por minúsculas y mayúsculas\n",
        "#Para que sort funcione, los datos de la lista tienen que tener congruencia entre ellos\n",
        "print(frutas)\n",
        "frutas.sort() \n",
        "print(frutas)"
      ],
      "execution_count": 38,
      "outputs": [
        {
          "output_type": "stream",
          "text": [
            "['cuaderno', 2, 3.1416, True, False, ['Rojo', 'Azul']]\n",
            "['cuaderno', 2, 3.1416, True, False, ['Rojo', 'Azul'], 'Libro', 'Lápiz']\n",
            "['cuaderno', 2, 3.1416, True, False, ['Rojo', 'Azul'], 'Libro']\n",
            "Lápiz\n",
            "['cuaderno', 2, True, False, ['Rojo', 'Azul'], 'Libro']\n",
            "3.1416\n",
            "['cuaderno', True, False, ['Rojo', 'Azul'], 'Libro']\n",
            "[]\n",
            "['Pera', 'manzana', 'Sandía', 'Fresa', 'kiwi', 'naranja', 'Aguacate']\n",
            "['Aguacate', 'Fresa', 'Pera', 'Sandía', 'kiwi', 'manzana', 'naranja']\n"
          ],
          "name": "stdout"
        }
      ]
    },
    {
      "cell_type": "code",
      "metadata": {
        "id": "pse-42HY7Iny",
        "outputId": "cd53eeea-eb32-4821-9366-6b36143d5278",
        "colab": {
          "base_uri": "https://localhost:8080/",
          "height": 118
        }
      },
      "source": [
        "# Slicing\n",
        "\n",
        "cosas = [\"cuaderno\", 2, 3.1416, True, False,[\"Rojo\", \"Azul\"]] #Pudes meter más listas\n",
        "print(cosas[3:5:1]) #No modifica la lista original, simplemente te regresa la rebanada que has seleccionado\n",
        "print(cosas)\n",
        "print(cosas[0][3:5:1]) #El [0] selecciona un elemento de la lista, mientras que [3:5:1] selecciona los elementos de la palabra cuaderno\n",
        "\n",
        "numeros = [0,1,2,3,4,5,6,7,8,9,10,11,12,13,14,15]\n",
        "print(numeros[8:13:1]) #Se puede omitir el :1 por que por defecto se cuenta de 1 en 1\n",
        "\n",
        "#sustituir rebanadas\n",
        "numeros [8:13] = [-2,-2]\n",
        "print(numeros)\n",
        "\n",
        "#preguntar exitencia\n",
        "print (100 in numeros)"
      ],
      "execution_count": 47,
      "outputs": [
        {
          "output_type": "stream",
          "text": [
            "[True, False]\n",
            "['cuaderno', 2, 3.1416, True, False, ['Rojo', 'Azul']]\n",
            "de\n",
            "[8, 9, 10, 11, 12]\n",
            "[0, 1, 2, 3, 4, 5, 6, 7, -2, -2, 13, 14, 15]\n",
            "False\n"
          ],
          "name": "stdout"
        }
      ]
    },
    {
      "cell_type": "markdown",
      "metadata": {
        "id": "YCPvHYJq-kGA"
      },
      "source": [
        "#LISTAS MULTIDIMENSIÓN\n",
        "Son liasta dentro de listas\n"
      ]
    },
    {
      "cell_type": "code",
      "metadata": {
        "id": "ueN0DvhO-rta",
        "outputId": "b7832063-ff14-4c07-aa66-1765f2fb2939",
        "colab": {
          "base_uri": "https://localhost:8080/",
          "height": 205
        }
      },
      "source": [
        "computadoras = [\"HP\",\"Mac Book Pro 17\",\"Mate Book\",\"Lenovo Legion\"]\n",
        "oss = [\"Windows 10\", \"Linux\", \"Android\",\"IOS\"]\n",
        "\n",
        "computo = [computadoras, oss]\n",
        "print(computo[0])\n",
        "print(computo[1])\n",
        "print(computo[0][2])\n",
        "print (computo[0][2][0:4])\n",
        "print (computo[0][3][-8::-1]) #cuenta los números de derecha a izquierda empezando desde -1, \n",
        "print (computo[0][3][5::-1]) #inicia desde el elemento 5 y se va a la inversa\n",
        "print(\"Linux\" in computo[1])\n",
        "\n",
        "dbms = [[\"Mysql\",\"Open source\", False],[\"MS SQL Server\", \"de paga\", True]]\n",
        "computo.append(dbms)\n",
        "print(computo)\n",
        "print(computo[2][0][0])\n",
        "print(computo[2][1][1])"
      ],
      "execution_count": 70,
      "outputs": [
        {
          "output_type": "stream",
          "text": [
            "['HP', 'Mac Book Pro 17', 'Mate Book', 'Lenovo Legion']\n",
            "['Windows 10', 'Linux', 'Android', 'IOS']\n",
            "Mate Book\n",
            "Mate\n",
            "ovoneL\n",
            "ovoneL\n",
            "True\n",
            "[['HP', 'Mac Book Pro 17', 'Mate Book', 'Lenovo Legion'], ['Windows 10', 'Linux', 'Android', 'IOS'], [['Mysql', 'Open source', False], ['MS SQL Server', 'de paga', True]]]\n",
            "Mysql\n",
            "de paga\n"
          ],
          "name": "stdout"
        }
      ]
    }
  ]
}