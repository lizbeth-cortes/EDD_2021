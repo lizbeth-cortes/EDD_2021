{
  "nbformat": 4,
  "nbformat_minor": 0,
  "metadata": {
    "colab": {
      "name": "Tarea_3.ipynb",
      "provenance": [],
      "authorship_tag": "ABX9TyMm/teNlkRqlD2KjiZ5JiK0",
      "include_colab_link": true
    },
    "kernelspec": {
      "name": "python3",
      "display_name": "Python 3"
    }
  },
  "cells": [
    {
      "cell_type": "markdown",
      "metadata": {
        "id": "view-in-github",
        "colab_type": "text"
      },
      "source": [
        "<a href=\"https://colab.research.google.com/github/lizbeth-cortes/edd_1310_2021/blob/master/Tarea_3.ipynb\" target=\"_parent\"><img src=\"https://colab.research.google.com/assets/colab-badge.svg\" alt=\"Open In Colab\"/></a>"
      ]
    },
    {
      "cell_type": "code",
      "metadata": {
        "id": "rTvk6e1RZS2G",
        "outputId": "5ae51710-32ff-48ff-d711-c60223c97423",
        "colab": {
          "base_uri": "https://localhost:8080/",
          "height": 118
        }
      },
      "source": [
        "class Persona:\n",
        "  def __init__( self, nombre,edad,estatura): \n",
        "    self.__nombre = nombre\n",
        "    self.__edad = edad\n",
        "    self.__estatura = estatura\n",
        "\n",
        "  def to_string( self ):\n",
        "    return \"Nombre: \"+self.__nombre + \" \\nEdad: \" + self.__edad + \" años.\" + \"\\nEstatura: \" + self.__estatura + \" cm.\"\n",
        "  \n",
        "  def dormir ():\n",
        "    print(\"Esta persona está durmiendo felizmente...\")\n",
        "\n",
        "  def comer ():\n",
        "    print(\"Esta persona está comiendo...\")\n",
        "\n",
        "print(\"-----------Persona--------\")\n",
        "p1 = Persona(\"Ana\", \"17\", \"1.60\")\n",
        "print(p1.to_string())\n",
        "Persona.comer()\n",
        "Persona.dormir()"
      ],
      "execution_count": 27,
      "outputs": [
        {
          "output_type": "stream",
          "text": [
            "-----------Persona--------\n",
            "Nombre: Ana \n",
            "Edad: 17 años.\n",
            "Estatura: 1.60 cm.\n",
            "Estta persona está comiendo...\n",
            "Esta persona está durmiendo felizmente...\n"
          ],
          "name": "stdout"
        }
      ]
    },
    {
      "cell_type": "code",
      "metadata": {
        "id": "kNy5r_MKqdAA",
        "outputId": "a0b0a38e-b9a9-4e38-a7eb-2b327b6ffdb1",
        "colab": {
          "base_uri": "https://localhost:8080/",
          "height": 118
        }
      },
      "source": [
        "class Celular:\n",
        "  def __init__(self, marca, modelo, esp): \n",
        "    self.__marca = marca\n",
        "    self.__modelo = modelo\n",
        "    self.__esp = esp\n",
        "\n",
        "  def to_string( self ):\n",
        "    return \"Marca: \"+self.__marca + \" \\nModelo: \" + self.__modelo + \"\\nEspacio de memoria: \" + self.__esp + \" MB.\"\n",
        "  \n",
        "  def llamar ():\n",
        "    print(\"Llamando a alguien...\")\n",
        "\n",
        "  def poner_alarma():\n",
        "    print(\"Configurando alarma...\")\n",
        "\n",
        "print(\"----------Celular-----------\")\n",
        "c1 = Celular(\"Samsung\",\"Galaxy A01\",\"12\")\n",
        "print(c1.to_string())\n",
        "Celular.llamar()\n",
        "Celular.poner_alarma()"
      ],
      "execution_count": 28,
      "outputs": [
        {
          "output_type": "stream",
          "text": [
            "----------Celular-----------\n",
            "Marca: Samsung \n",
            "Modelo: Galaxy A01\n",
            "Espacio de memoria: 12 MB.\n",
            "Llamando a alguien...\n",
            "Configurando alarma...\n"
          ],
          "name": "stdout"
        }
      ]
    }
  ]
}