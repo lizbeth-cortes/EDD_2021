{
  "nbformat": 4,
  "nbformat_minor": 0,
  "metadata": {
    "colab": {
      "name": "Tarea_3.ipynb",
      "provenance": [],
      "authorship_tag": "ABX9TyMq9N+4FY14Pn+/FOrReSQs",
      "include_colab_link": true
    },
    "kernelspec": {
      "name": "python3",
      "display_name": "Python 3"
    }
  },
  "cells": [
    {
      "cell_type": "markdown",
      "metadata": {
        "id": "view-in-github",
        "colab_type": "text"
      },
      "source": [
        "<a href=\"https://colab.research.google.com/github/lizbeth-cortes/edd_1310_2021/blob/master/Tarea_3.ipynb\" target=\"_parent\"><img src=\"https://colab.research.google.com/assets/colab-badge.svg\" alt=\"Open In Colab\"/></a>"
      ]
    },
    {
      "cell_type": "code",
      "metadata": {
        "id": "rTvk6e1RZS2G",
        "outputId": "ba9fc803-7f6d-4d5a-999d-c88faa3cb6dd",
        "colab": {
          "base_uri": "https://localhost:8080/",
          "height": 118
        }
      },
      "source": [
        "class Persona:\n",
        "  def __init__( self, nombre,edad,estatura): \n",
        "    self.__nombre = nombre\n",
        "    self.__edad = edad\n",
        "    self.__estatura = estatura\n",
        "\n",
        "  def to_string( self ):\n",
        "    return \"Nombre: \"+self.__nombre + \" \\nEdad: \" + self.__edad + \" años.\" + \"\\nEstatura: \" + self.__estatura + \" cm.\"\n",
        "  \n",
        "  def dormir ():\n",
        "    print(\"Esta persona está durmiendo felizmente...\")\n",
        "\n",
        "  def comer ():\n",
        "    print(\"Esta persona está comiendo...\")\n",
        "\n",
        "print(\"-----------Persona--------\")\n",
        "p1 = Persona(\"Ana\", \"17\", \"1.60\")\n",
        "print(p1.to_string())\n",
        "Persona.comer()\n",
        "Persona.dormir()"
      ],
      "execution_count": 30,
      "outputs": [
        {
          "output_type": "stream",
          "text": [
            "-----------Persona--------\n",
            "Nombre: Ana \n",
            "Edad: 17 años.\n",
            "Estatura: 1.60 cm.\n",
            "Esta persona está comiendo...\n",
            "Esta persona está durmiendo felizmente...\n"
          ],
          "name": "stdout"
        }
      ]
    },
    {
      "cell_type": "code",
      "metadata": {
        "id": "kNy5r_MKqdAA",
        "outputId": "1f47a994-f676-4514-cbf9-f6af4875b7d0",
        "colab": {
          "base_uri": "https://localhost:8080/",
          "height": 118
        }
      },
      "source": [
        "class Celular:\n",
        "  def __init__(self, marca, modelo, esp): \n",
        "    self.__marca = marca\n",
        "    self.__modelo = modelo\n",
        "    self.__esp = esp\n",
        "\n",
        "  def to_string( self ):\n",
        "    return \"Marca: \"+self.__marca + \" \\nModelo: \" + self.__modelo + \"\\nEspacio de memoria: \" + self.__esp + \" GB.\"\n",
        "  \n",
        "  def llamar ():\n",
        "    print(\"Llamando a alguien...\")\n",
        "\n",
        "  def poner_alarma():\n",
        "    print(\"Configurando alarma...\")\n",
        "\n",
        "print(\"----------Celular-----------\")\n",
        "c1 = Celular(\"Samsung\",\"Galaxy A01\",\"12\")\n",
        "print(c1.to_string())\n",
        "Celular.llamar()\n",
        "Celular.poner_alarma()"
      ],
      "execution_count": 29,
      "outputs": [
        {
          "output_type": "stream",
          "text": [
            "----------Celular-----------\n",
            "Marca: Samsung \n",
            "Modelo: Galaxy A01\n",
            "Espacio de memoria: 12 GB.\n",
            "Llamando a alguien...\n",
            "Configurando alarma...\n"
          ],
          "name": "stdout"
        }
      ]
    }
  ]
}